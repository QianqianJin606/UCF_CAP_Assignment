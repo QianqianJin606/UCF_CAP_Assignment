{
 "cells": [
  {
   "cell_type": "code",
   "execution_count": 51,
   "id": "bb61f2d1",
   "metadata": {},
   "outputs": [],
   "source": [
    "import pandas as pd\n",
    "import numpy as np\n",
    "import random as rnd\n",
    "\n",
    "import seaborn as sns\n",
    "import matplotlib.pyplot as plt\n",
    "%matplotlib inline"
   ]
  },
  {
   "cell_type": "code",
   "execution_count": 52,
   "id": "7c57ebf5",
   "metadata": {},
   "outputs": [
    {
     "name": "stdout",
     "output_type": "stream",
     "text": [
      "['Lchange' 'laneid' 'carid' 'frameid' 'X_lead_Car' 'X_follow_Car' 'X_rel'\n",
      " 'V_lead_Car' 'V_follow_Car' 'V_rel' 'ins_acc' 'leading_car_length'\n",
      " 'leading_car_width' 'following_Car_length' 'following_car_width'\n",
      " 'difference_centroid' 'heading_lead' 'heading_follow' 'heading_changes']\n"
     ]
    }
   ],
   "source": [
    "# 导入数据\n",
    "data= pd.read_csv('project_data_V1.csv')\n",
    "print(data.columns.values)\n",
    "list_data = [data]"
   ]
  },
  {
   "cell_type": "code",
   "execution_count": 53,
   "id": "7de488c3",
   "metadata": {},
   "outputs": [
    {
     "name": "stdout",
     "output_type": "stream",
     "text": [
      "<class 'pandas.core.frame.DataFrame'>\n",
      "RangeIndex: 105712 entries, 0 to 105711\n",
      "Data columns (total 19 columns):\n",
      " #   Column                Non-Null Count   Dtype  \n",
      "---  ------                --------------   -----  \n",
      " 0   Lchange               105712 non-null  int64  \n",
      " 1   laneid                105712 non-null  int64  \n",
      " 2   carid                 105712 non-null  int64  \n",
      " 3   frameid               105712 non-null  int64  \n",
      " 4   X_lead_Car            105712 non-null  float64\n",
      " 5   X_follow_Car          105712 non-null  float64\n",
      " 6   X_rel                 105712 non-null  float64\n",
      " 7   V_lead_Car            105712 non-null  float64\n",
      " 8   V_follow_Car          105712 non-null  float64\n",
      " 9   V_rel                 105712 non-null  float64\n",
      " 10  ins_acc               105712 non-null  float64\n",
      " 11  leading_car_length    105712 non-null  float64\n",
      " 12  leading_car_width     105712 non-null  float64\n",
      " 13  following_Car_length  105712 non-null  float64\n",
      " 14  following_car_width   105712 non-null  float64\n",
      " 15  difference_centroid   105712 non-null  float64\n",
      " 16  heading_lead          105712 non-null  float64\n",
      " 17  heading_follow        105712 non-null  float64\n",
      " 18  heading_changes       105712 non-null  float64\n",
      "dtypes: float64(15), int64(4)\n",
      "memory usage: 15.3 MB\n"
     ]
    }
   ],
   "source": [
    "data.info()"
   ]
  },
  {
   "cell_type": "code",
   "execution_count": 54,
   "id": "1ae44309",
   "metadata": {},
   "outputs": [
    {
     "data": {
      "text/html": [
       "<div>\n",
       "<style scoped>\n",
       "    .dataframe tbody tr th:only-of-type {\n",
       "        vertical-align: middle;\n",
       "    }\n",
       "\n",
       "    .dataframe tbody tr th {\n",
       "        vertical-align: top;\n",
       "    }\n",
       "\n",
       "    .dataframe thead th {\n",
       "        text-align: right;\n",
       "    }\n",
       "</style>\n",
       "<table border=\"1\" class=\"dataframe\">\n",
       "  <thead>\n",
       "    <tr style=\"text-align: right;\">\n",
       "      <th></th>\n",
       "      <th>Lchange</th>\n",
       "      <th>laneid</th>\n",
       "      <th>carid</th>\n",
       "      <th>frameid</th>\n",
       "      <th>X_lead_Car</th>\n",
       "      <th>X_follow_Car</th>\n",
       "      <th>X_rel</th>\n",
       "      <th>V_lead_Car</th>\n",
       "      <th>V_follow_Car</th>\n",
       "      <th>V_rel</th>\n",
       "      <th>ins_acc</th>\n",
       "      <th>leading_car_length</th>\n",
       "      <th>leading_car_width</th>\n",
       "      <th>following_Car_length</th>\n",
       "      <th>following_car_width</th>\n",
       "      <th>difference_centroid</th>\n",
       "      <th>heading_lead</th>\n",
       "      <th>heading_follow</th>\n",
       "      <th>heading_changes</th>\n",
       "    </tr>\n",
       "  </thead>\n",
       "  <tbody>\n",
       "    <tr>\n",
       "      <th>0</th>\n",
       "      <td>0</td>\n",
       "      <td>6</td>\n",
       "      <td>1</td>\n",
       "      <td>497</td>\n",
       "      <td>297.0</td>\n",
       "      <td>93.1</td>\n",
       "      <td>204.0</td>\n",
       "      <td>61.5</td>\n",
       "      <td>86.9</td>\n",
       "      <td>-25.4</td>\n",
       "      <td>1.07</td>\n",
       "      <td>5.60</td>\n",
       "      <td>2.06</td>\n",
       "      <td>3.98</td>\n",
       "      <td>1.77</td>\n",
       "      <td>209.0</td>\n",
       "      <td>76.7</td>\n",
       "      <td>76.2</td>\n",
       "      <td>0.44</td>\n",
       "    </tr>\n",
       "    <tr>\n",
       "      <th>1</th>\n",
       "      <td>0</td>\n",
       "      <td>6</td>\n",
       "      <td>1</td>\n",
       "      <td>498</td>\n",
       "      <td>298.0</td>\n",
       "      <td>94.0</td>\n",
       "      <td>204.0</td>\n",
       "      <td>61.6</td>\n",
       "      <td>87.0</td>\n",
       "      <td>-25.4</td>\n",
       "      <td>1.27</td>\n",
       "      <td>5.60</td>\n",
       "      <td>2.06</td>\n",
       "      <td>4.12</td>\n",
       "      <td>1.77</td>\n",
       "      <td>209.0</td>\n",
       "      <td>76.7</td>\n",
       "      <td>76.2</td>\n",
       "      <td>0.45</td>\n",
       "    </tr>\n",
       "    <tr>\n",
       "      <th>2</th>\n",
       "      <td>0</td>\n",
       "      <td>6</td>\n",
       "      <td>1</td>\n",
       "      <td>499</td>\n",
       "      <td>299.0</td>\n",
       "      <td>94.6</td>\n",
       "      <td>204.0</td>\n",
       "      <td>61.7</td>\n",
       "      <td>87.1</td>\n",
       "      <td>-25.4</td>\n",
       "      <td>0.46</td>\n",
       "      <td>5.60</td>\n",
       "      <td>2.06</td>\n",
       "      <td>3.98</td>\n",
       "      <td>1.77</td>\n",
       "      <td>209.0</td>\n",
       "      <td>76.5</td>\n",
       "      <td>76.5</td>\n",
       "      <td>0.06</td>\n",
       "    </tr>\n",
       "    <tr>\n",
       "      <th>3</th>\n",
       "      <td>0</td>\n",
       "      <td>6</td>\n",
       "      <td>1</td>\n",
       "      <td>509</td>\n",
       "      <td>304.0</td>\n",
       "      <td>103.0</td>\n",
       "      <td>201.0</td>\n",
       "      <td>61.9</td>\n",
       "      <td>87.7</td>\n",
       "      <td>-25.8</td>\n",
       "      <td>-2.25</td>\n",
       "      <td>5.75</td>\n",
       "      <td>2.21</td>\n",
       "      <td>3.98</td>\n",
       "      <td>1.77</td>\n",
       "      <td>206.0</td>\n",
       "      <td>76.3</td>\n",
       "      <td>76.0</td>\n",
       "      <td>0.33</td>\n",
       "    </tr>\n",
       "    <tr>\n",
       "      <th>4</th>\n",
       "      <td>0</td>\n",
       "      <td>6</td>\n",
       "      <td>1</td>\n",
       "      <td>526</td>\n",
       "      <td>314.0</td>\n",
       "      <td>117.0</td>\n",
       "      <td>197.0</td>\n",
       "      <td>57.7</td>\n",
       "      <td>88.1</td>\n",
       "      <td>-30.4</td>\n",
       "      <td>2.19</td>\n",
       "      <td>5.45</td>\n",
       "      <td>2.06</td>\n",
       "      <td>3.98</td>\n",
       "      <td>1.62</td>\n",
       "      <td>202.0</td>\n",
       "      <td>76.0</td>\n",
       "      <td>78.1</td>\n",
       "      <td>-2.12</td>\n",
       "    </tr>\n",
       "  </tbody>\n",
       "</table>\n",
       "</div>"
      ],
      "text/plain": [
       "   Lchange  laneid  carid  frameid  X_lead_Car  X_follow_Car  X_rel  \\\n",
       "0        0       6      1      497       297.0          93.1  204.0   \n",
       "1        0       6      1      498       298.0          94.0  204.0   \n",
       "2        0       6      1      499       299.0          94.6  204.0   \n",
       "3        0       6      1      509       304.0         103.0  201.0   \n",
       "4        0       6      1      526       314.0         117.0  197.0   \n",
       "\n",
       "   V_lead_Car  V_follow_Car  V_rel  ins_acc  leading_car_length  \\\n",
       "0        61.5          86.9  -25.4     1.07                5.60   \n",
       "1        61.6          87.0  -25.4     1.27                5.60   \n",
       "2        61.7          87.1  -25.4     0.46                5.60   \n",
       "3        61.9          87.7  -25.8    -2.25                5.75   \n",
       "4        57.7          88.1  -30.4     2.19                5.45   \n",
       "\n",
       "   leading_car_width  following_Car_length  following_car_width  \\\n",
       "0               2.06                  3.98                 1.77   \n",
       "1               2.06                  4.12                 1.77   \n",
       "2               2.06                  3.98                 1.77   \n",
       "3               2.21                  3.98                 1.77   \n",
       "4               2.06                  3.98                 1.62   \n",
       "\n",
       "   difference_centroid  heading_lead  heading_follow  heading_changes  \n",
       "0                209.0          76.7            76.2             0.44  \n",
       "1                209.0          76.7            76.2             0.45  \n",
       "2                209.0          76.5            76.5             0.06  \n",
       "3                206.0          76.3            76.0             0.33  \n",
       "4                202.0          76.0            78.1            -2.12  "
      ]
     },
     "execution_count": 54,
     "metadata": {},
     "output_type": "execute_result"
    }
   ],
   "source": [
    "data.head()"
   ]
  },
  {
   "cell_type": "code",
   "execution_count": 55,
   "id": "4da5ee17",
   "metadata": {},
   "outputs": [
    {
     "data": {
      "text/html": [
       "<div>\n",
       "<style scoped>\n",
       "    .dataframe tbody tr th:only-of-type {\n",
       "        vertical-align: middle;\n",
       "    }\n",
       "\n",
       "    .dataframe tbody tr th {\n",
       "        vertical-align: top;\n",
       "    }\n",
       "\n",
       "    .dataframe thead th {\n",
       "        text-align: right;\n",
       "    }\n",
       "</style>\n",
       "<table border=\"1\" class=\"dataframe\">\n",
       "  <thead>\n",
       "    <tr style=\"text-align: right;\">\n",
       "      <th></th>\n",
       "      <th>Lchange</th>\n",
       "      <th>laneid</th>\n",
       "      <th>carid</th>\n",
       "      <th>frameid</th>\n",
       "      <th>X_lead_Car</th>\n",
       "      <th>X_follow_Car</th>\n",
       "      <th>X_rel</th>\n",
       "      <th>V_lead_Car</th>\n",
       "      <th>V_follow_Car</th>\n",
       "      <th>V_rel</th>\n",
       "      <th>ins_acc</th>\n",
       "      <th>leading_car_length</th>\n",
       "      <th>leading_car_width</th>\n",
       "      <th>following_Car_length</th>\n",
       "      <th>following_car_width</th>\n",
       "      <th>difference_centroid</th>\n",
       "      <th>heading_lead</th>\n",
       "      <th>heading_follow</th>\n",
       "      <th>heading_changes</th>\n",
       "    </tr>\n",
       "  </thead>\n",
       "  <tbody>\n",
       "    <tr>\n",
       "      <th>count</th>\n",
       "      <td>105712.000000</td>\n",
       "      <td>105712.000000</td>\n",
       "      <td>105712.000000</td>\n",
       "      <td>105712.000000</td>\n",
       "      <td>105712.000000</td>\n",
       "      <td>105712.000000</td>\n",
       "      <td>105712.000000</td>\n",
       "      <td>105712.000000</td>\n",
       "      <td>105712.000000</td>\n",
       "      <td>105712.000000</td>\n",
       "      <td>105712.000000</td>\n",
       "      <td>105712.000000</td>\n",
       "      <td>105712.000000</td>\n",
       "      <td>105712.000000</td>\n",
       "      <td>105712.000000</td>\n",
       "      <td>105712.000000</td>\n",
       "      <td>105712.000000</td>\n",
       "      <td>105712.000000</td>\n",
       "      <td>105712.000000</td>\n",
       "    </tr>\n",
       "    <tr>\n",
       "      <th>mean</th>\n",
       "      <td>0.001372</td>\n",
       "      <td>3.279968</td>\n",
       "      <td>180.728650</td>\n",
       "      <td>1261.971924</td>\n",
       "      <td>371.949203</td>\n",
       "      <td>417.357210</td>\n",
       "      <td>57.651443</td>\n",
       "      <td>85.316939</td>\n",
       "      <td>85.239580</td>\n",
       "      <td>0.077246</td>\n",
       "      <td>-0.016030</td>\n",
       "      <td>4.669588</td>\n",
       "      <td>1.893351</td>\n",
       "      <td>4.683871</td>\n",
       "      <td>1.891837</td>\n",
       "      <td>59.738109</td>\n",
       "      <td>180.843946</td>\n",
       "      <td>180.829893</td>\n",
       "      <td>0.013506</td>\n",
       "    </tr>\n",
       "    <tr>\n",
       "      <th>std</th>\n",
       "      <td>0.037011</td>\n",
       "      <td>1.691703</td>\n",
       "      <td>117.046348</td>\n",
       "      <td>773.563801</td>\n",
       "      <td>175.470893</td>\n",
       "      <td>176.520084</td>\n",
       "      <td>47.583313</td>\n",
       "      <td>12.506917</td>\n",
       "      <td>12.512905</td>\n",
       "      <td>9.762737</td>\n",
       "      <td>2.535659</td>\n",
       "      <td>0.383357</td>\n",
       "      <td>0.143478</td>\n",
       "      <td>0.385646</td>\n",
       "      <td>0.144389</td>\n",
       "      <td>46.553881</td>\n",
       "      <td>87.691308</td>\n",
       "      <td>87.685506</td>\n",
       "      <td>1.035741</td>\n",
       "    </tr>\n",
       "    <tr>\n",
       "      <th>min</th>\n",
       "      <td>0.000000</td>\n",
       "      <td>0.000000</td>\n",
       "      <td>1.000000</td>\n",
       "      <td>1.000000</td>\n",
       "      <td>71.900000</td>\n",
       "      <td>76.000000</td>\n",
       "      <td>0.000000</td>\n",
       "      <td>32.500000</td>\n",
       "      <td>32.000000</td>\n",
       "      <td>-51.700000</td>\n",
       "      <td>-6.960000</td>\n",
       "      <td>3.540000</td>\n",
       "      <td>1.330000</td>\n",
       "      <td>3.540000</td>\n",
       "      <td>1.330000</td>\n",
       "      <td>0.290000</td>\n",
       "      <td>69.500000</td>\n",
       "      <td>69.500000</td>\n",
       "      <td>-39.600000</td>\n",
       "    </tr>\n",
       "    <tr>\n",
       "      <th>25%</th>\n",
       "      <td>0.000000</td>\n",
       "      <td>2.000000</td>\n",
       "      <td>77.000000</td>\n",
       "      <td>538.000000</td>\n",
       "      <td>222.000000</td>\n",
       "      <td>266.000000</td>\n",
       "      <td>25.800000</td>\n",
       "      <td>78.700000</td>\n",
       "      <td>78.700000</td>\n",
       "      <td>-4.590000</td>\n",
       "      <td>-1.740000</td>\n",
       "      <td>4.420000</td>\n",
       "      <td>1.770000</td>\n",
       "      <td>4.420000</td>\n",
       "      <td>1.770000</td>\n",
       "      <td>29.200000</td>\n",
       "      <td>77.200000</td>\n",
       "      <td>77.200000</td>\n",
       "      <td>-0.640000</td>\n",
       "    </tr>\n",
       "    <tr>\n",
       "      <th>50%</th>\n",
       "      <td>0.000000</td>\n",
       "      <td>3.000000</td>\n",
       "      <td>160.000000</td>\n",
       "      <td>1250.000000</td>\n",
       "      <td>365.000000</td>\n",
       "      <td>417.000000</td>\n",
       "      <td>43.600000</td>\n",
       "      <td>86.100000</td>\n",
       "      <td>86.200000</td>\n",
       "      <td>0.240000</td>\n",
       "      <td>0.000000</td>\n",
       "      <td>4.710000</td>\n",
       "      <td>1.910000</td>\n",
       "      <td>4.710000</td>\n",
       "      <td>1.910000</td>\n",
       "      <td>44.200000</td>\n",
       "      <td>254.000000</td>\n",
       "      <td>254.000000</td>\n",
       "      <td>0.000000</td>\n",
       "    </tr>\n",
       "    <tr>\n",
       "      <th>75%</th>\n",
       "      <td>0.000000</td>\n",
       "      <td>4.000000</td>\n",
       "      <td>283.000000</td>\n",
       "      <td>1980.000000</td>\n",
       "      <td>514.000000</td>\n",
       "      <td>564.000000</td>\n",
       "      <td>72.000000</td>\n",
       "      <td>93.900000</td>\n",
       "      <td>93.900000</td>\n",
       "      <td>4.820000</td>\n",
       "      <td>1.740000</td>\n",
       "      <td>4.860000</td>\n",
       "      <td>1.920000</td>\n",
       "      <td>4.860000</td>\n",
       "      <td>1.920000</td>\n",
       "      <td>72.950000</td>\n",
       "      <td>255.000000</td>\n",
       "      <td>255.000000</td>\n",
       "      <td>0.670000</td>\n",
       "    </tr>\n",
       "    <tr>\n",
       "      <th>max</th>\n",
       "      <td>1.000000</td>\n",
       "      <td>7.000000</td>\n",
       "      <td>510.000000</td>\n",
       "      <td>2500.000000</td>\n",
       "      <td>739.000000</td>\n",
       "      <td>742.000000</td>\n",
       "      <td>519.000000</td>\n",
       "      <td>124.000000</td>\n",
       "      <td>123.000000</td>\n",
       "      <td>61.000000</td>\n",
       "      <td>6.960000</td>\n",
       "      <td>5.750000</td>\n",
       "      <td>2.800000</td>\n",
       "      <td>5.750000</td>\n",
       "      <td>2.800000</td>\n",
       "      <td>514.000000</td>\n",
       "      <td>294.000000</td>\n",
       "      <td>294.000000</td>\n",
       "      <td>37.900000</td>\n",
       "    </tr>\n",
       "  </tbody>\n",
       "</table>\n",
       "</div>"
      ],
      "text/plain": [
       "             Lchange         laneid          carid        frameid  \\\n",
       "count  105712.000000  105712.000000  105712.000000  105712.000000   \n",
       "mean        0.001372       3.279968     180.728650    1261.971924   \n",
       "std         0.037011       1.691703     117.046348     773.563801   \n",
       "min         0.000000       0.000000       1.000000       1.000000   \n",
       "25%         0.000000       2.000000      77.000000     538.000000   \n",
       "50%         0.000000       3.000000     160.000000    1250.000000   \n",
       "75%         0.000000       4.000000     283.000000    1980.000000   \n",
       "max         1.000000       7.000000     510.000000    2500.000000   \n",
       "\n",
       "          X_lead_Car   X_follow_Car          X_rel     V_lead_Car  \\\n",
       "count  105712.000000  105712.000000  105712.000000  105712.000000   \n",
       "mean      371.949203     417.357210      57.651443      85.316939   \n",
       "std       175.470893     176.520084      47.583313      12.506917   \n",
       "min        71.900000      76.000000       0.000000      32.500000   \n",
       "25%       222.000000     266.000000      25.800000      78.700000   \n",
       "50%       365.000000     417.000000      43.600000      86.100000   \n",
       "75%       514.000000     564.000000      72.000000      93.900000   \n",
       "max       739.000000     742.000000     519.000000     124.000000   \n",
       "\n",
       "        V_follow_Car          V_rel        ins_acc  leading_car_length  \\\n",
       "count  105712.000000  105712.000000  105712.000000       105712.000000   \n",
       "mean       85.239580       0.077246      -0.016030            4.669588   \n",
       "std        12.512905       9.762737       2.535659            0.383357   \n",
       "min        32.000000     -51.700000      -6.960000            3.540000   \n",
       "25%        78.700000      -4.590000      -1.740000            4.420000   \n",
       "50%        86.200000       0.240000       0.000000            4.710000   \n",
       "75%        93.900000       4.820000       1.740000            4.860000   \n",
       "max       123.000000      61.000000       6.960000            5.750000   \n",
       "\n",
       "       leading_car_width  following_Car_length  following_car_width  \\\n",
       "count      105712.000000         105712.000000        105712.000000   \n",
       "mean            1.893351              4.683871             1.891837   \n",
       "std             0.143478              0.385646             0.144389   \n",
       "min             1.330000              3.540000             1.330000   \n",
       "25%             1.770000              4.420000             1.770000   \n",
       "50%             1.910000              4.710000             1.910000   \n",
       "75%             1.920000              4.860000             1.920000   \n",
       "max             2.800000              5.750000             2.800000   \n",
       "\n",
       "       difference_centroid   heading_lead  heading_follow  heading_changes  \n",
       "count        105712.000000  105712.000000   105712.000000    105712.000000  \n",
       "mean             59.738109     180.843946      180.829893         0.013506  \n",
       "std              46.553881      87.691308       87.685506         1.035741  \n",
       "min               0.290000      69.500000       69.500000       -39.600000  \n",
       "25%              29.200000      77.200000       77.200000        -0.640000  \n",
       "50%              44.200000     254.000000      254.000000         0.000000  \n",
       "75%              72.950000     255.000000      255.000000         0.670000  \n",
       "max             514.000000     294.000000      294.000000        37.900000  "
      ]
     },
     "execution_count": 55,
     "metadata": {},
     "output_type": "execute_result"
    }
   ],
   "source": [
    "data.describe()"
   ]
  },
  {
   "cell_type": "markdown",
   "id": "aa216171",
   "metadata": {},
   "source": [
    "# Delete the outlier"
   ]
  },
  {
   "cell_type": "code",
   "execution_count": 64,
   "id": "e5ee5ddd",
   "metadata": {},
   "outputs": [],
   "source": [
    "# if data is larger or smaller than 3-sigma, then the whole row should be deleted."
   ]
  },
  {
   "cell_type": "markdown",
   "id": "c6a8844d",
   "metadata": {},
   "source": [
    "# Correlation"
   ]
  },
  {
   "cell_type": "code",
   "execution_count": 68,
   "id": "ce1a95c7",
   "metadata": {},
   "outputs": [
    {
     "data": {
      "text/plain": [
       "<seaborn.axisgrid.FacetGrid at 0x262e8149a90>"
      ]
     },
     "execution_count": 68,
     "metadata": {},
     "output_type": "execute_result"
    },
    {
     "data": {
      "image/png": "[encoded data removed]",
      "text/plain": [
       "<Figure size 432x216 with 2 Axes>"
      ]
     },
     "metadata": {
      "needs_background": "light"
     },
     "output_type": "display_data"
    }
   ],
   "source": [
    "g = sns.FacetGrid(data, col='Lchange',)\n",
    "# g.map(plt.scatter, 'leading_car_width', 'leading_car_length')\n",
    "# g.map_dataframe(sns.scatterplot, 'leading_car_width', 'leading_car_length')\n",
    "g.map_dataframe(sns.scatterplot, 'leading_car_length', 'leading_car_width')\n"
   ]
  },
  {
   "cell_type": "code",
   "execution_count": 66,
   "id": "0f81aa25",
   "metadata": {},
   "outputs": [
    {
     "data": {
      "text/plain": [
       "<seaborn.axisgrid.FacetGrid at 0x262e7f6f430>"
      ]
     },
     "execution_count": 66,
     "metadata": {},
     "output_type": "execute_result"
    },
    {
     "data": {
      "image/png": "[encoded data removed]",
      "text/plain": [
       "<Figure size 432x216 with 2 Axes>"
      ]
     },
     "metadata": {
      "needs_background": "light"
     },
     "output_type": "display_data"
    }
   ],
   "source": [
    "g = sns.FacetGrid(data, col='Lchange',)\n",
    "# g.map(plt.scatter, 'X_lead_Car', 'X_rel')\n",
    "g.map_dataframe(sns.scatterplot, 'X_lead_Car', 'X_rel')"
   ]
  },
  {
   "cell_type": "code",
   "execution_count": 58,
   "id": "e80b4cf6",
   "metadata": {},
   "outputs": [
    {
     "data": {
      "text/plain": [
       "<seaborn.axisgrid.FacetGrid at 0x262e7803700>"
      ]
     },
     "execution_count": 58,
     "metadata": {},
     "output_type": "execute_result"
    },
    {
     "data": {
      "image/png": "[encoded data removed]",
      "text/plain": [
       "<Figure size 432x216 with 2 Axes>"
      ]
     },
     "metadata": {
      "needs_background": "light"
     },
     "output_type": "display_data"
    }
   ],
   "source": [
    "g = sns.FacetGrid(data, col='Lchange',)\n",
    "g.map_dataframe(sns.scatterplot, 'X_rel', 'V_rel')"
   ]
  },
  {
   "cell_type": "code",
   "execution_count": 59,
   "id": "771ba9ad",
   "metadata": {},
   "outputs": [
    {
     "data": {
      "text/plain": [
       "<seaborn.axisgrid.FacetGrid at 0x262e77f81c0>"
      ]
     },
     "execution_count": 59,
     "metadata": {},
     "output_type": "execute_result"
    },
    {
     "data": {
      "image/png": "[encoded data removed]",
      "text/plain": [
       "<Figure size 432x216 with 2 Axes>"
      ]
     },
     "metadata": {
      "needs_background": "light"
     },
     "output_type": "display_data"
    }
   ],
   "source": [
    "g = sns.FacetGrid(data, col='Lchange',)\n",
    "g.map(plt.hist, 'V_lead_Car', bins=20)"
   ]
  },
  {
   "cell_type": "code",
   "execution_count": 60,
   "id": "c70e8e0e",
   "metadata": {},
   "outputs": [
    {
     "data": {
      "text/plain": [
       "<seaborn.axisgrid.FacetGrid at 0x262e797e580>"
      ]
     },
     "execution_count": 60,
     "metadata": {},
     "output_type": "execute_result"
    },
    {
     "data": {
      "image/png": "[encoded data removed]",
      "text/plain": [
       "<Figure size 432x216 with 2 Axes>"
      ]
     },
     "metadata": {
      "needs_background": "light"
     },
     "output_type": "display_data"
    }
   ],
   "source": [
    "g = sns.FacetGrid(data, col='Lchange',)\n",
    "g.map(plt.hist, 'V_rel', bins=20)"
   ]
  },
  {
   "cell_type": "markdown",
   "id": "3271f965",
   "metadata": {},
   "source": [
    "#### Based on the above two hist plot result, \n",
    "#### it could be found that there is a imbalanced situation between the data of changing lane and not."
   ]
  },
  {
   "cell_type": "code",
   "execution_count": 62,
   "id": "1f05be77",
   "metadata": {},
   "outputs": [
    {
     "data": {
      "text/plain": [
       "<seaborn.axisgrid.FacetGrid at 0x262e7b5eb80>"
      ]
     },
     "execution_count": 62,
     "metadata": {},
     "output_type": "execute_result"
    },
    {
     "data": {
      "image/png": "[encoded data removed]",
      "text/plain": [
       "<Figure size 432x216 with 2 Axes>"
      ]
     },
     "metadata": {
      "needs_background": "light"
     },
     "output_type": "display_data"
    }
   ],
   "source": [
    "g = sns.FacetGrid(data, col='Lchange',)\n",
    "g.map_dataframe(sns.scatterplot, 'frameid', 'laneid')"
   ]
  },
  {
   "cell_type": "markdown",
   "id": "64d93b4f",
   "metadata": {},
   "source": [
    "#### Most of vheicles change their lane when they are in Lane1, Lane2. \n",
    "\n",
    "#### On the contrary there are considerable fewer vheicles in lane0 and lane4 to change lane."
   ]
  },
  {
   "cell_type": "code",
   "execution_count": null,
   "id": "226a44c4",
   "metadata": {},
   "outputs": [],
   "source": []
  }
 ],
 "metadata": {
  "kernelspec": {
   "display_name": "Python 3",
   "language": "python",
   "name": "python3"
  },
  "language_info": {
   "codemirror_mode": {
    "name": "ipython",
    "version": 3
   },
   "file_extension": ".py",
   "mimetype": "text/x-python",
   "name": "python",
   "nbconvert_exporter": "python",
   "pygments_lexer": "ipython3",
   "version": "3.8.8"
  }
 },
 "nbformat": 4,
 "nbformat_minor": 5
}
