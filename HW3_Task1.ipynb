{
 "cells": [
  {
   "cell_type": "code",
   "execution_count": 2,
   "id": "5f0f602b",
   "metadata": {},
   "outputs": [],
   "source": [
    "import kmeans as km\n",
    "import numpy as np\n",
    "import pandas as pd"
   ]
  },
  {
   "cell_type": "code",
   "execution_count": 3,
   "id": "44788f08",
   "metadata": {},
   "outputs": [
    {
     "data": {
      "text/html": [
       "<div>\n",
       "<style scoped>\n",
       "    .dataframe tbody tr th:only-of-type {\n",
       "        vertical-align: middle;\n",
       "    }\n",
       "\n",
       "    .dataframe tbody tr th {\n",
       "        vertical-align: top;\n",
       "    }\n",
       "\n",
       "    .dataframe thead th {\n",
       "        text-align: right;\n",
       "    }\n",
       "</style>\n",
       "<table border=\"1\" class=\"dataframe\">\n",
       "  <thead>\n",
       "    <tr style=\"text-align: right;\">\n",
       "      <th></th>\n",
       "      <th>0</th>\n",
       "      <th>1</th>\n",
       "      <th>2</th>\n",
       "      <th>3</th>\n",
       "      <th>4</th>\n",
       "      <th>5</th>\n",
       "      <th>6</th>\n",
       "      <th>7</th>\n",
       "      <th>8</th>\n",
       "      <th>9</th>\n",
       "      <th>...</th>\n",
       "      <th>774</th>\n",
       "      <th>775</th>\n",
       "      <th>776</th>\n",
       "      <th>777</th>\n",
       "      <th>778</th>\n",
       "      <th>779</th>\n",
       "      <th>780</th>\n",
       "      <th>781</th>\n",
       "      <th>782</th>\n",
       "      <th>783</th>\n",
       "    </tr>\n",
       "  </thead>\n",
       "  <tbody>\n",
       "    <tr>\n",
       "      <th>count</th>\n",
       "      <td>9999.0</td>\n",
       "      <td>9999.0</td>\n",
       "      <td>9999.0</td>\n",
       "      <td>9999.0</td>\n",
       "      <td>9999.0</td>\n",
       "      <td>9999.0</td>\n",
       "      <td>9999.0</td>\n",
       "      <td>9999.0</td>\n",
       "      <td>9999.0</td>\n",
       "      <td>9999.0</td>\n",
       "      <td>...</td>\n",
       "      <td>9999.000000</td>\n",
       "      <td>9999.000000</td>\n",
       "      <td>9999.000000</td>\n",
       "      <td>9999.000000</td>\n",
       "      <td>9999.0</td>\n",
       "      <td>9999.0</td>\n",
       "      <td>9999.0</td>\n",
       "      <td>9999.0</td>\n",
       "      <td>9999.0</td>\n",
       "      <td>9999.0</td>\n",
       "    </tr>\n",
       "    <tr>\n",
       "      <th>mean</th>\n",
       "      <td>0.0</td>\n",
       "      <td>0.0</td>\n",
       "      <td>0.0</td>\n",
       "      <td>0.0</td>\n",
       "      <td>0.0</td>\n",
       "      <td>0.0</td>\n",
       "      <td>0.0</td>\n",
       "      <td>0.0</td>\n",
       "      <td>0.0</td>\n",
       "      <td>0.0</td>\n",
       "      <td>...</td>\n",
       "      <td>0.179318</td>\n",
       "      <td>0.163616</td>\n",
       "      <td>0.052605</td>\n",
       "      <td>0.000600</td>\n",
       "      <td>0.0</td>\n",
       "      <td>0.0</td>\n",
       "      <td>0.0</td>\n",
       "      <td>0.0</td>\n",
       "      <td>0.0</td>\n",
       "      <td>0.0</td>\n",
       "    </tr>\n",
       "    <tr>\n",
       "      <th>std</th>\n",
       "      <td>0.0</td>\n",
       "      <td>0.0</td>\n",
       "      <td>0.0</td>\n",
       "      <td>0.0</td>\n",
       "      <td>0.0</td>\n",
       "      <td>0.0</td>\n",
       "      <td>0.0</td>\n",
       "      <td>0.0</td>\n",
       "      <td>0.0</td>\n",
       "      <td>0.0</td>\n",
       "      <td>...</td>\n",
       "      <td>5.674433</td>\n",
       "      <td>5.736359</td>\n",
       "      <td>2.420125</td>\n",
       "      <td>0.060003</td>\n",
       "      <td>0.0</td>\n",
       "      <td>0.0</td>\n",
       "      <td>0.0</td>\n",
       "      <td>0.0</td>\n",
       "      <td>0.0</td>\n",
       "      <td>0.0</td>\n",
       "    </tr>\n",
       "    <tr>\n",
       "      <th>min</th>\n",
       "      <td>0.0</td>\n",
       "      <td>0.0</td>\n",
       "      <td>0.0</td>\n",
       "      <td>0.0</td>\n",
       "      <td>0.0</td>\n",
       "      <td>0.0</td>\n",
       "      <td>0.0</td>\n",
       "      <td>0.0</td>\n",
       "      <td>0.0</td>\n",
       "      <td>0.0</td>\n",
       "      <td>...</td>\n",
       "      <td>0.000000</td>\n",
       "      <td>0.000000</td>\n",
       "      <td>0.000000</td>\n",
       "      <td>0.000000</td>\n",
       "      <td>0.0</td>\n",
       "      <td>0.0</td>\n",
       "      <td>0.0</td>\n",
       "      <td>0.0</td>\n",
       "      <td>0.0</td>\n",
       "      <td>0.0</td>\n",
       "    </tr>\n",
       "    <tr>\n",
       "      <th>25%</th>\n",
       "      <td>0.0</td>\n",
       "      <td>0.0</td>\n",
       "      <td>0.0</td>\n",
       "      <td>0.0</td>\n",
       "      <td>0.0</td>\n",
       "      <td>0.0</td>\n",
       "      <td>0.0</td>\n",
       "      <td>0.0</td>\n",
       "      <td>0.0</td>\n",
       "      <td>0.0</td>\n",
       "      <td>...</td>\n",
       "      <td>0.000000</td>\n",
       "      <td>0.000000</td>\n",
       "      <td>0.000000</td>\n",
       "      <td>0.000000</td>\n",
       "      <td>0.0</td>\n",
       "      <td>0.0</td>\n",
       "      <td>0.0</td>\n",
       "      <td>0.0</td>\n",
       "      <td>0.0</td>\n",
       "      <td>0.0</td>\n",
       "    </tr>\n",
       "    <tr>\n",
       "      <th>50%</th>\n",
       "      <td>0.0</td>\n",
       "      <td>0.0</td>\n",
       "      <td>0.0</td>\n",
       "      <td>0.0</td>\n",
       "      <td>0.0</td>\n",
       "      <td>0.0</td>\n",
       "      <td>0.0</td>\n",
       "      <td>0.0</td>\n",
       "      <td>0.0</td>\n",
       "      <td>0.0</td>\n",
       "      <td>...</td>\n",
       "      <td>0.000000</td>\n",
       "      <td>0.000000</td>\n",
       "      <td>0.000000</td>\n",
       "      <td>0.000000</td>\n",
       "      <td>0.0</td>\n",
       "      <td>0.0</td>\n",
       "      <td>0.0</td>\n",
       "      <td>0.0</td>\n",
       "      <td>0.0</td>\n",
       "      <td>0.0</td>\n",
       "    </tr>\n",
       "    <tr>\n",
       "      <th>75%</th>\n",
       "      <td>0.0</td>\n",
       "      <td>0.0</td>\n",
       "      <td>0.0</td>\n",
       "      <td>0.0</td>\n",
       "      <td>0.0</td>\n",
       "      <td>0.0</td>\n",
       "      <td>0.0</td>\n",
       "      <td>0.0</td>\n",
       "      <td>0.0</td>\n",
       "      <td>0.0</td>\n",
       "      <td>...</td>\n",
       "      <td>0.000000</td>\n",
       "      <td>0.000000</td>\n",
       "      <td>0.000000</td>\n",
       "      <td>0.000000</td>\n",
       "      <td>0.0</td>\n",
       "      <td>0.0</td>\n",
       "      <td>0.0</td>\n",
       "      <td>0.0</td>\n",
       "      <td>0.0</td>\n",
       "      <td>0.0</td>\n",
       "    </tr>\n",
       "    <tr>\n",
       "      <th>max</th>\n",
       "      <td>0.0</td>\n",
       "      <td>0.0</td>\n",
       "      <td>0.0</td>\n",
       "      <td>0.0</td>\n",
       "      <td>0.0</td>\n",
       "      <td>0.0</td>\n",
       "      <td>0.0</td>\n",
       "      <td>0.0</td>\n",
       "      <td>0.0</td>\n",
       "      <td>0.0</td>\n",
       "      <td>...</td>\n",
       "      <td>253.000000</td>\n",
       "      <td>253.000000</td>\n",
       "      <td>156.000000</td>\n",
       "      <td>6.000000</td>\n",
       "      <td>0.0</td>\n",
       "      <td>0.0</td>\n",
       "      <td>0.0</td>\n",
       "      <td>0.0</td>\n",
       "      <td>0.0</td>\n",
       "      <td>0.0</td>\n",
       "    </tr>\n",
       "  </tbody>\n",
       "</table>\n",
       "<p>8 rows × 784 columns</p>\n",
       "</div>"
      ],
      "text/plain": [
       "          0       1       2       3       4       5       6       7       8    \\\n",
       "count  9999.0  9999.0  9999.0  9999.0  9999.0  9999.0  9999.0  9999.0  9999.0   \n",
       "mean      0.0     0.0     0.0     0.0     0.0     0.0     0.0     0.0     0.0   \n",
       "std       0.0     0.0     0.0     0.0     0.0     0.0     0.0     0.0     0.0   \n",
       "min       0.0     0.0     0.0     0.0     0.0     0.0     0.0     0.0     0.0   \n",
       "25%       0.0     0.0     0.0     0.0     0.0     0.0     0.0     0.0     0.0   \n",
       "50%       0.0     0.0     0.0     0.0     0.0     0.0     0.0     0.0     0.0   \n",
       "75%       0.0     0.0     0.0     0.0     0.0     0.0     0.0     0.0     0.0   \n",
       "max       0.0     0.0     0.0     0.0     0.0     0.0     0.0     0.0     0.0   \n",
       "\n",
       "          9    ...          774          775          776          777  \\\n",
       "count  9999.0  ...  9999.000000  9999.000000  9999.000000  9999.000000   \n",
       "mean      0.0  ...     0.179318     0.163616     0.052605     0.000600   \n",
       "std       0.0  ...     5.674433     5.736359     2.420125     0.060003   \n",
       "min       0.0  ...     0.000000     0.000000     0.000000     0.000000   \n",
       "25%       0.0  ...     0.000000     0.000000     0.000000     0.000000   \n",
       "50%       0.0  ...     0.000000     0.000000     0.000000     0.000000   \n",
       "75%       0.0  ...     0.000000     0.000000     0.000000     0.000000   \n",
       "max       0.0  ...   253.000000   253.000000   156.000000     6.000000   \n",
       "\n",
       "          778     779     780     781     782     783  \n",
       "count  9999.0  9999.0  9999.0  9999.0  9999.0  9999.0  \n",
       "mean      0.0     0.0     0.0     0.0     0.0     0.0  \n",
       "std       0.0     0.0     0.0     0.0     0.0     0.0  \n",
       "min       0.0     0.0     0.0     0.0     0.0     0.0  \n",
       "25%       0.0     0.0     0.0     0.0     0.0     0.0  \n",
       "50%       0.0     0.0     0.0     0.0     0.0     0.0  \n",
       "75%       0.0     0.0     0.0     0.0     0.0     0.0  \n",
       "max       0.0     0.0     0.0     0.0     0.0     0.0  \n",
       "\n",
       "[8 rows x 784 columns]"
      ]
     },
     "execution_count": 3,
     "metadata": {},
     "output_type": "execute_result"
    }
   ],
   "source": [
    "dataset = km.loadCSV('data.csv')\n",
    "k = 3\n",
    "df = pd.DataFrame(dataset)\n",
    "df.describe()"
   ]
  },
  {
   "cell_type": "markdown",
   "id": "625aa611",
   "metadata": {},
   "source": [
    "# Q1"
   ]
  },
  {
   "cell_type": "code",
   "execution_count": 17,
   "id": "20374bea",
   "metadata": {},
   "outputs": [
    {
     "name": "stdout",
     "output_type": "stream",
     "text": [
      "Euclidian:  30392498446.667324\n",
      "Cosine:  3103.3100775774687\n",
      "Jaccard:  9999.0\n"
     ]
    }
   ],
   "source": [
    "clustering_euclidian = km.kmeans(dataset,k,dist_type='euclidian')\n",
    "print('Euclidian: ', clustering_euclidian['withinss'])\n",
    "clustering_cosine = km.kmeans(dataset,k,dist_type='cosine')\n",
    "print('Cosine: ', clustering_cosine['withinss'])\n",
    "clustering_jaccard = km.kmeans(dataset,k,dist_type='jaccard')\n",
    "print('Jaccard: ', clustering_jaccard['withinss'])"
   ]
  },
  {
   "cell_type": "markdown",
   "id": "934f4035",
   "metadata": {},
   "source": [
    " # So, cosine distance is better than other two."
   ]
  },
  {
   "cell_type": "markdown",
   "id": "2f7e3654",
   "metadata": {},
   "source": [
    "# Q2"
   ]
  },
  {
   "cell_type": "code",
   "execution_count": 24,
   "id": "83e23663",
   "metadata": {},
   "outputs": [
    {
     "name": "stdout",
     "output_type": "stream",
     "text": [
      "Euclidian:  1.0\n",
      "Cosine:  1.0\n",
      "Jaccard:  0.3333333333333333\n"
     ]
    }
   ],
   "source": [
    "def accuracy(cluster):\n",
    "    label_accuracy = list()\n",
    "    for cluster in cluster['clusters']:\n",
    "        labels = dict()\n",
    "        for item in cluster:\n",
    "            labels.setdefault(item[0],0)\n",
    "            labels[item[0]] += 1\n",
    "        vals = np.array(list(labels.values()))\n",
    "        vals.sort()\n",
    "        if len(vals) == 0:\n",
    "            label_accuracy.append(0)\n",
    "        else:\n",
    "            label_accuracy.append(vals[-1]/sum(vals))\n",
    "    label_accuracy = np.array(label_accuracy)\n",
    "    return label_accuracy.mean()\n",
    "\n",
    "print('Euclidian: ', accuracy(clustering_euclidian))\n",
    "print('Cosine: ', accuracy(clustering_cosine))\n",
    "print('Jaccard: ', accuracy(clustering_jaccard))"
   ]
  },
  {
   "cell_type": "markdown",
   "id": "35fe959d",
   "metadata": {},
   "source": [
    "# So, Euclidian and Cosine method with perfect accuracy"
   ]
  },
  {
   "cell_type": "markdown",
   "id": "8877ccf7",
   "metadata": {},
   "source": [
    "# Q3"
   ]
  },
  {
   "cell_type": "code",
   "execution_count": 25,
   "id": "e9e733e0",
   "metadata": {},
   "outputs": [
    {
     "name": "stdout",
     "output_type": "stream",
     "text": [
      "Euclidian:  30\n",
      "Cosine:  37\n",
      "Jaccard:  3\n"
     ]
    }
   ],
   "source": [
    "print('Euclidian: ', clustering_euclidian['iterations'])\n",
    "print('Cosine: ', clustering_cosine['iterations'])\n",
    "print('Jaccard: ', clustering_jaccard['iterations'])"
   ]
  },
  {
   "cell_type": "markdown",
   "id": "8ac4c22e",
   "metadata": {},
   "source": [
    "# The Cosine method with more iteration"
   ]
  },
  {
   "cell_type": "markdown",
   "id": "5db9c862",
   "metadata": {},
   "source": [
    "# Q4"
   ]
  },
  {
   "cell_type": "code",
   "execution_count": 26,
   "id": "219d98be",
   "metadata": {},
   "outputs": [],
   "source": [
    "from time import time\n",
    "\n",
    "def run_condition(condition, dataset,k):\n",
    "\n",
    "    euclidian_start = time()\n",
    "    clustering_euclidian = km.kmeans(dataset,k,dist_type='euclidian',condition=condition)\n",
    "    euclidian_time = time() - euclidian_start\n",
    "\n",
    "    print(\"Euclidian \\t Time: {} \\t Iterations: {}\".format(euclidian_time, clustering_euclidian['iterations']))\n",
    "    \n",
    "    cosine_start = time()\n",
    "    clustering_cosine = km.kmeans(dataset,k,dist_type='cosine',condition=condition)\n",
    "    cosine_time = time() - cosine_start\n",
    "\n",
    "    print(\"Cosine \\t\\t Time: {} \\t Iterations: {}\".format(cosine_time, clustering_cosine['iterations']))\n",
    "\n",
    "    jaccard_start = time()\n",
    "    clustering_jaccard = km.kmeans(dataset,k,dist_type='jaccard',condition=condition)\n",
    "    jaccard_time = time() - jaccard_start\n",
    "\n",
    "    print(\"Jaccard \\t Time: {} \\t Iterations: {}\".format(euclidian_time, clustering_jaccard['iterations']))"
   ]
  },
  {
   "cell_type": "code",
   "execution_count": 27,
   "id": "9e4c4cbb",
   "metadata": {},
   "outputs": [
    {
     "name": "stdout",
     "output_type": "stream",
     "text": [
      "Euclidian \t Time: 184.95941138267517 \t Iterations: 25\n",
      "Cosine \t\t Time: 197.70241785049438 \t Iterations: 38\n",
      "Jaccard \t Time: 184.95941138267517 \t Iterations: 5\n"
     ]
    }
   ],
   "source": [
    "run_condition('centroid',dataset,k)"
   ]
  },
  {
   "cell_type": "code",
   "execution_count": 28,
   "id": "b21c442e",
   "metadata": {},
   "outputs": [
    {
     "name": "stdout",
     "output_type": "stream",
     "text": [
      "Euclidian \t Time: 275.9043490886688 \t Iterations: 40\n",
      "Cosine \t\t Time: 91.0343132019043 \t Iterations: 18\n",
      "Jaccard \t Time: 275.9043490886688 \t Iterations: 2\n"
     ]
    }
   ],
   "source": [
    "run_condition('sse',dataset,k)"
   ]
  },
  {
   "cell_type": "code",
   "execution_count": 29,
   "id": "b146f005",
   "metadata": {},
   "outputs": [
    {
     "name": "stdout",
     "output_type": "stream",
     "text": [
      "Euclidian \t Time: 720.3595776557922 \t Iterations: 100\n",
      "Cosine \t\t Time: 526.3056793212891 \t Iterations: 100\n",
      "Jaccard \t Time: 720.3595776557922 \t Iterations: 100\n"
     ]
    }
   ],
   "source": [
    "run_condition('iteration',dataset,k)"
   ]
  },
  {
   "cell_type": "markdown",
   "id": "5526d064",
   "metadata": {},
   "source": [
    "# Q5"
   ]
  },
  {
   "cell_type": "markdown",
   "id": "32c0751a",
   "metadata": {},
   "source": [
    "### In summary, comparing with two other methods in iteration, time consumption and Accuracy, Cosine distance calculation shows a good performance"
   ]
  },
  {
   "cell_type": "code",
   "execution_count": null,
   "id": "d34db95c",
   "metadata": {},
   "outputs": [],
   "source": []
  }
 ],
 "metadata": {
  "kernelspec": {
   "display_name": "Python 3",
   "language": "python",
   "name": "python3"
  },
  "language_info": {
   "codemirror_mode": {
    "name": "ipython",
    "version": 3
   },
   "file_extension": ".py",
   "mimetype": "text/x-python",
   "name": "python",
   "nbconvert_exporter": "python",
   "pygments_lexer": "ipython3",
   "version": "3.8.8"
  }
 },
 "nbformat": 4,
 "nbformat_minor": 5
}
