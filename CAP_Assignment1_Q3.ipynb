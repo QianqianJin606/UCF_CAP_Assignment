{
 "cells": [
  {
   "cell_type": "code",
   "execution_count": 19,
   "id": "d40892dd",
   "metadata": {},
   "outputs": [
    {
     "name": "stdout",
     "output_type": "stream",
     "text": [
      "corr1 [[ 1. nan]\n",
      " [nan nan]]\n",
      "corr2 [[ 1. nan]\n",
      " [nan nan]]\n"
     ]
    }
   ],
   "source": [
    "import numpy as np\n",
    "\n",
    "# comparison between small rectangle and small square\n",
    "x = np.array([1,2])\n",
    "y = np.array([1,1])\n",
    "corr1 = np.corrcoef(x,y)\n",
    "print('corr1',corr1)\n",
    "\n",
    "# comparison between large rectangle and large square\n",
    "x = np.array([3,6])\n",
    "y = np.array([3,3])\n",
    "corr2 = np.corrcoef(x,y)\n",
    "print('corr2',corr2)"
   ]
  },
  {
   "cell_type": "code",
   "execution_count": 18,
   "id": "4bbbffa6",
   "metadata": {},
   "outputs": [
    {
     "name": "stdout",
     "output_type": "stream",
     "text": [
      "corr3 [[1. 1.]\n",
      " [1. 1.]]\n",
      "corr4 [[nan nan]\n",
      " [nan nan]]\n"
     ]
    }
   ],
   "source": [
    "# comparison between small rectangle and large rectangle\n",
    "x = np.array([1,2])\n",
    "y = np.array([3,6])\n",
    "corr3 = np.corrcoef(x,y)\n",
    "print('corr3',corr3)\n",
    "\n",
    "# comparison between small square and large square\n",
    "x = np.array([1,1])\n",
    "y = np.array([3,3])\n",
    "corr4 = np.corrcoef(x,y)\n",
    "print('corr4',corr4)"
   ]
  },
  {
   "cell_type": "markdown",
   "id": "17f97225",
   "metadata": {},
   "source": [
    "# The (pearson) correlation between two shapes are same, so the correlation could as a proximity measure for shapes."
   ]
  },
  {
   "cell_type": "markdown",
   "id": "1d5d7431",
   "metadata": {},
   "source": [
    " "
   ]
  }
 ],
 "metadata": {
  "kernelspec": {
   "display_name": "Python 3 (ipykernel)",
   "language": "python",
   "name": "python3"
  },
  "language_info": {
   "codemirror_mode": {
    "name": "ipython",
    "version": 3
   },
   "file_extension": ".py",
   "mimetype": "text/x-python",
   "name": "python",
   "nbconvert_exporter": "python",
   "pygments_lexer": "ipython3",
   "version": "3.9.12"
  }
 },
 "nbformat": 4,
 "nbformat_minor": 5
}
